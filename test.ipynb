{
 "cells": [
  {
   "cell_type": "code",
   "execution_count": 1,
   "id": "2b2f2b1b",
   "metadata": {},
   "outputs": [
    {
     "name": "stdout",
     "output_type": "stream",
     "text": [
      "gender: [np.int64(0), np.int64(1)]\n",
      "SeniorCitizen: [np.int64(0), np.int64(1)]\n",
      "Partner: [np.int64(0), np.int64(1)]\n",
      "Dependents: [np.int64(0), np.int64(1)]\n",
      "PhoneService: [np.int64(0), np.int64(1)]\n",
      "PaperlessBilling: [np.int64(0), np.int64(1)]\n"
     ]
    }
   ],
   "source": [
    "import joblib\n",
    "\n",
    "encoders = joblib.load(\"models/label_encoders.pkl\")\n",
    "\n",
    "for col, le in encoders.items():\n",
    "    print(f\"{col}: {list(le.classes_)}\")\n"
   ]
  },
  {
   "cell_type": "code",
   "execution_count": 2,
   "id": "fb16b3d9",
   "metadata": {},
   "outputs": [
    {
     "data": {
      "text/plain": [
       "{'gender': LabelEncoder(),\n",
       " 'SeniorCitizen': LabelEncoder(),\n",
       " 'Partner': LabelEncoder(),\n",
       " 'Dependents': LabelEncoder(),\n",
       " 'PhoneService': LabelEncoder(),\n",
       " 'PaperlessBilling': LabelEncoder()}"
      ]
     },
     "execution_count": 2,
     "metadata": {},
     "output_type": "execute_result"
    }
   ],
   "source": [
    "encoders"
   ]
  },
  {
   "cell_type": "code",
   "execution_count": 3,
   "id": "7bcb1108",
   "metadata": {},
   "outputs": [
    {
     "name": "stdout",
     "output_type": "stream",
     "text": [
      "[0 1]\n"
     ]
    }
   ],
   "source": [
    "import joblib\n",
    "encoders = joblib.load(\"models/label_encoders.pkl\")\n",
    "print(encoders[\"gender\"].classes_)\n"
   ]
  }
 ],
 "metadata": {
  "kernelspec": {
   "display_name": "venv",
   "language": "python",
   "name": "python3"
  },
  "language_info": {
   "codemirror_mode": {
    "name": "ipython",
    "version": 3
   },
   "file_extension": ".py",
   "mimetype": "text/x-python",
   "name": "python",
   "nbconvert_exporter": "python",
   "pygments_lexer": "ipython3",
   "version": "3.12.7"
  }
 },
 "nbformat": 4,
 "nbformat_minor": 5
}
